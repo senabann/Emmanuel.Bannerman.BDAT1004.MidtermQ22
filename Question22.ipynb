{
 "cells": [
  {
   "cell_type": "markdown",
   "id": "518577de-2037-49c8-bdb9-268d4f69f7a4",
   "metadata": {},
   "source": [
    "# Question 22"
   ]
  },
  {
   "cell_type": "code",
   "execution_count": 22,
   "id": "7c5e7a5b-7717-418a-b17f-9d5010968f1f",
   "metadata": {},
   "outputs": [
    {
     "name": "stdout",
     "output_type": "stream",
     "text": [
      "+----+\n",
      "| id |\n",
      "+----+\n",
      "|  2 |\n",
      "|  4 |\n",
      "+----+\n",
      "On 2015-01-02, the temperature was higher than the day before (10 -> 25).\n",
      "On 2015-01-04, the temperature was higher than the day before (20 -> 30).\n"
     ]
    }
   ],
   "source": [
    "import sqlite3\n",
    "\n",
    "# First we connect the Sqlite database API\n",
    "conn = sqlite3.connect(':memory:')  \n",
    "\n",
    "\n",
    "cur = conn.cursor() #This creates the cursor object which will execute the SQL statements\n",
    "\n",
    "#Now I create the table Weather by passing the SQL statements as strings using the execute method:\n",
    "cur.execute(\"\"\"CREATE TABLE Weather (id INTEGER PRIMARY KEY, \n",
    "                                        recordDate DATE,\n",
    "                                        temperature INTEGER)\"\"\")\n",
    "\n",
    "# Now we populate the Weather table(input)\n",
    "data = [(1, '2015-01-01', 10),(2, '2015-01-02', 25),(3, '2015-01-03', 20),(4, '2015-01-04', 30)]\n",
    "cur.executemany('INSERT INTO Weather (id, recordDate, temperature) VALUES (?, ?, ?)', data)\n",
    "conn.commit() #This ensures the the changes are written \n",
    "\n",
    "# Quesries to obtain values of dates id with previos day higher tempretures\n",
    "query = '''\n",
    "SELECT w1.id\n",
    "FROM Weather w1\n",
    "JOIN Weather w2 ON DATE(w1.recordDate, '-1 day') = w2.recordDate\n",
    "WHERE w1.temperature > w2.temperature\n",
    "'''\n",
    "\n",
    "cur.execute(query)\n",
    "result = cur.fetchall()\n",
    "\n",
    "# Prints the table\n",
    "print(\"+----+\\n| id |\\n+----+\")\n",
    "for row in result:\n",
    "    print(f\"|  {row[0]} |\")\n",
    "print(\"+----+\")\n",
    "\n",
    "\n",
    "for row in result:\n",
    "    cur.execute('SELECT recordDate, temperature FROM Weather WHERE id = ?', (row[0],))\n",
    "    current = cur.fetchone()\n",
    "    cur.execute('SELECT temperature FROM Weather WHERE recordDate = DATE(?, \"-1 day\")', (current[0],))\n",
    "    previous = cur.fetchone()\n",
    "    print(f\"On {current[0]}, the temperature was higher than the day before ({previous[0]} -> {current[1]}).\")\n",
    "\n",
    "#and then we close the database\n",
    "conn.close()"
   ]
  },
  {
   "cell_type": "code",
   "execution_count": null,
   "id": "35384683-09c5-418d-affa-4a9d24b96f30",
   "metadata": {},
   "outputs": [],
   "source": []
  }
 ],
 "metadata": {
  "kernelspec": {
   "display_name": "Python 3 (ipykernel)",
   "language": "python",
   "name": "python3"
  },
  "language_info": {
   "codemirror_mode": {
    "name": "ipython",
    "version": 3
   },
   "file_extension": ".py",
   "mimetype": "text/x-python",
   "name": "python",
   "nbconvert_exporter": "python",
   "pygments_lexer": "ipython3",
   "version": "3.11.7"
  }
 },
 "nbformat": 4,
 "nbformat_minor": 5
}
